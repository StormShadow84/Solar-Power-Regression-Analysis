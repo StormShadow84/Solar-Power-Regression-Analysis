{
 "cells": [
  {
   "cell_type": "code",
   "execution_count": 2,
   "metadata": {
    "scrolled": false
   },
   "outputs": [
    {
     "name": "stdout",
     "output_type": "stream",
     "text": [
      "         01-01   0  0.1   1  0.0  0.0.1  nan  0.0.2  0.0.3  0.0.4  ...  \\\n",
      "0        01-01   0    0   6  0.0    0.0  NaN    0.0    0.0    0.0  ...   \n",
      "1        01-01   0    0  11  0.0    0.0  NaN    0.0    0.0    0.0  ...   \n",
      "2        01-01   0    0  16  0.0    0.0  NaN    0.0    0.0    0.0  ...   \n",
      "3        01-01   0    0  21  0.0    0.0  NaN    0.0    0.0    0.0  ...   \n",
      "4        01-01   0    0  26  0.0    0.0  NaN    0.0    0.0    0.0  ...   \n",
      "...        ...  ..  ...  ..  ...    ...  ...    ...    ...    ...  ...   \n",
      "1762181  05-31  23   59  36  0.0    0.0  NaN    0.0    0.0    0.0  ...   \n",
      "1762182  05-31  23   59  41  0.0    0.0  NaN    0.0    0.0    0.0  ...   \n",
      "1762183  05-31  23   59  46  0.0    0.0  NaN    0.0    0.0    0.0  ...   \n",
      "1762184  05-31  23   59  51  0.0    0.0  NaN    0.0    0.0    0.0  ...   \n",
      "1762185  05-31  23   59  56  0.0    0.0  NaN    0.0    0.0    0.0  ...   \n",
      "\n",
      "         18.5778577858.1  -0.263827440633  0.0527952506596  0.263877044855  \\\n",
      "0              18.577858        -0.263827         0.158336        0.263877   \n",
      "1              18.577858        -0.263827         0.158336        0.263877   \n",
      "2              18.577858        -0.158287         0.158336        0.263877   \n",
      "3              18.577858        -0.158287         0.158336        0.263877   \n",
      "4              18.577858        -0.158287         0.052795        0.158336   \n",
      "...                  ...              ...              ...             ...   \n",
      "1762181        18.577858        25.171529        25.277070       25.593692   \n",
      "1762182        18.577858        25.171529        25.277070       25.488151   \n",
      "1762183        18.577858        25.171529        25.277070       25.488151   \n",
      "1762184        18.577858        25.171529        25.382611       25.488151   \n",
      "1762185        18.577858        25.171529        25.382611       25.593692   \n",
      "\n",
      "         0.369417941953    -1.7414  -2.05802269129  -2.26910448549  \\\n",
      "0              0.474959  -1.846941       -2.058023       -2.269104   \n",
      "1              0.369418  -1.741400       -2.058023       -2.269104   \n",
      "2              0.369418  -1.846941       -2.058023       -2.163564   \n",
      "3              0.263877  -1.846941       -2.058023       -2.269104   \n",
      "4              0.369418  -1.741400       -1.952482       -2.269104   \n",
      "...                 ...        ...             ...             ...   \n",
      "1762181       25.593692  24.010579       24.010579       23.693956   \n",
      "1762182       25.488151  24.116120       23.799497       23.693956   \n",
      "1762183       25.382611  24.116120       23.799497       23.693956   \n",
      "1762184       25.488151  24.116120       23.905038       23.799497   \n",
      "1762185       25.593692  24.221661       23.905038       23.799497   \n",
      "\n",
      "         -2.37464538259  Unnamed: 37  \n",
      "0             -2.480186          NaN  \n",
      "1             -2.480186          NaN  \n",
      "2             -2.480186          NaN  \n",
      "3             -2.480186          NaN  \n",
      "4             -2.374645          NaN  \n",
      "...                 ...          ...  \n",
      "1762181       23.482874          NaN  \n",
      "1762182       23.377334          NaN  \n",
      "1762183       23.377334          NaN  \n",
      "1762184       23.482874          NaN  \n",
      "1762185       23.482874          NaN  \n",
      "\n",
      "[1762186 rows x 38 columns]\n"
     ]
    }
   ],
   "source": [
    "# Importing the libraries \n",
    "import numpy as np \n",
    "import matplotlib.pyplot as plt \n",
    "import pandas as pd \n",
    "data = pd.read_csv('data_2020_0101_0531.csv') \n",
    "print(data) "
   ]
  },
  {
   "cell_type": "code",
   "execution_count": 45,
   "metadata": {},
   "outputs": [
    {
     "name": "stdout",
     "output_type": "stream",
     "text": [
      "[[ 0]\n",
      " [ 0]\n",
      " [ 0]\n",
      " ...\n",
      " [23]\n",
      " [23]\n",
      " [23]]\n",
      "[ 0  0  0 ... 59 59 59]\n"
     ]
    }
   ],
   "source": [
    "x = data.iloc[:, 1:2].values \n",
    "print(x) \n",
    "y = data.iloc[:, 2].values \n",
    "print(y)"
   ]
  },
  {
   "cell_type": "code",
   "execution_count": 46,
   "metadata": {},
   "outputs": [
    {
     "data": {
      "text/plain": [
       "RandomForestRegressor(bootstrap=True, ccp_alpha=0.0, criterion='mse',\n",
       "                      max_depth=None, max_features='auto', max_leaf_nodes=None,\n",
       "                      max_samples=None, min_impurity_decrease=0.0,\n",
       "                      min_impurity_split=None, min_samples_leaf=1,\n",
       "                      min_samples_split=2, min_weight_fraction_leaf=0.0,\n",
       "                      n_estimators=100, n_jobs=None, oob_score=False,\n",
       "                      random_state=0, verbose=0, warm_start=False)"
      ]
     },
     "execution_count": 46,
     "metadata": {},
     "output_type": "execute_result"
    }
   ],
   "source": [
    "# Fitting Random Forest Regression to the dataset \n",
    "# import the regressor \n",
    "from sklearn.ensemble import RandomForestRegressor \n",
    "\n",
    "# create regressor object \n",
    "regressor = RandomForestRegressor(n_estimators = 100, random_state = 0) \n",
    "\n",
    "# fit the regressor with x and y data \n",
    "regressor.fit(x, y) "
   ]
  },
  {
   "cell_type": "code",
   "execution_count": 47,
   "metadata": {},
   "outputs": [],
   "source": [
    "Y_pred = regressor.predict(np.array([6.5]).reshape(1, 1)) # test the output by changing values "
   ]
  },
  {
   "cell_type": "code",
   "execution_count": 48,
   "metadata": {},
   "outputs": [
    {
     "data": {
      "image/png": "[encoded data removed]",
      "text/plain": [
       "<Figure size 432x288 with 1 Axes>"
      ]
     },
     "metadata": {
      "needs_background": "light"
     },
     "output_type": "display_data"
    }
   ],
   "source": [
    "# Visualising the Random Forest Regression results \n",
    "\n",
    "# arange for creating a range of values \n",
    "# from min value of x to max \n",
    "# value of x with a difference of 0.01 \n",
    "# between two consecutive values \n",
    "X_grid = np.arange(min(x), max(x), 0.01) \n",
    "\n",
    "# reshape for reshaping the data into a len(X_grid)*1 array, \n",
    "# i.e. to make a column out of the X_grid value\t\t\t\t \n",
    "X_grid = X_grid.reshape((len(X_grid), 1)) \n",
    "\n",
    "# Scatter plot for original data \n",
    "plt.scatter(x, y, color = 'blue') \n",
    "\n",
    "# plot predicted data \n",
    "plt.plot(X_grid, regressor.predict(X_grid), \n",
    "\t\tcolor = 'green') \n",
    "plt.title('Solar Data') \n",
    "plt.xlabel('Range') \n",
    "plt.ylabel('Sample') \n",
    "plt.show()"
   ]
  },
  {
   "cell_type": "code",
   "execution_count": null,
   "metadata": {},
   "outputs": [],
   "source": []
  }
 ],
 "metadata": {
  "kernelspec": {
   "display_name": "Python 3",
   "language": "python",
   "name": "python3"
  },
  "language_info": {
   "codemirror_mode": {
    "name": "ipython",
    "version": 3
   },
   "file_extension": ".py",
   "mimetype": "text/x-python",
   "name": "python",
   "nbconvert_exporter": "python",
   "pygments_lexer": "ipython3",
   "version": "3.7.6"
  }
 },
 "nbformat": 4,
 "nbformat_minor": 4
}
